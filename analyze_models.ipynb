{
 "cells": [
  {
   "cell_type": "code",
   "execution_count": 1,
   "id": "ec4a3089",
   "metadata": {},
   "outputs": [
    {
     "name": "stderr",
     "output_type": "stream",
     "text": [
      "C:\\Users\\vinhl\\Anaconda3\\envs\\efficientnet\\lib\\site-packages\\tqdm\\auto.py:22: TqdmWarning: IProgress not found. Please update jupyter and ipywidgets. See https://ipywidgets.readthedocs.io/en/stable/user_install.html\n",
      "  from .autonotebook import tqdm as notebook_tqdm\n"
     ]
    }
   ],
   "source": [
    "import torch\n",
    "import torchvision\n",
    "import h5py\n",
    "import numpy as np\n",
    "import tensorflow as tf\n",
    "import efficientnet.tfkeras as efn"
   ]
  },
  {
   "cell_type": "code",
   "execution_count": 2,
   "id": "386ca38f",
   "metadata": {},
   "outputs": [
    {
     "name": "stdout",
     "output_type": "stream",
     "text": [
      "model loaded\n"
     ]
    }
   ],
   "source": [
    "model = tf.keras.models.load_model('model', compile=False)\n",
    "print('model loaded')\n",
    "example_weights = model.layers[1].weights"
   ]
  },
  {
   "cell_type": "code",
   "execution_count": 3,
   "id": "9022fe3a",
   "metadata": {},
   "outputs": [
    {
     "data": {
      "text/plain": [
       "TensorShape([3, 3, 5, 32])"
      ]
     },
     "execution_count": 3,
     "metadata": {},
     "output_type": "execute_result"
    }
   ],
   "source": [
    "example_weights[0].shape"
   ]
  },
  {
   "cell_type": "code",
   "execution_count": 5,
   "id": "c3323609",
   "metadata": {
    "scrolled": true
   },
   "outputs": [
    {
     "name": "stdout",
     "output_type": "stream",
     "text": [
      "layer: 0\n",
      "{'batch_input_shape': (None, 128, 128, 5), 'dtype': 'float32', 'sparse': False, 'ragged': False, 'name': 'input_1'}\n",
      "[(None, 128, 128, 5)]\n",
      "[(None, 128, 128, 5)]\n",
      "layer: 1\n",
      "{'name': 'stem_conv', 'trainable': True, 'dtype': 'float32', 'filters': 32, 'kernel_size': (3, 3), 'strides': (2, 2), 'padding': 'same', 'data_format': 'channels_last', 'dilation_rate': (1, 1), 'groups': 1, 'activation': 'linear', 'use_bias': False, 'kernel_initializer': {'class_name': 'VarianceScaling', 'config': {'scale': 2.0, 'mode': 'fan_out', 'distribution': 'truncated_normal', 'seed': None}}, 'bias_initializer': {'class_name': 'Zeros', 'config': {}}, 'kernel_regularizer': {'class_name': 'L2', 'config': {'l2': 9.999999747378752e-06}}, 'bias_regularizer': None, 'activity_regularizer': None, 'kernel_constraint': None, 'bias_constraint': None}\n",
      "(None, 128, 128, 5)\n",
      "(None, 64, 64, 32)\n",
      "layer: 2\n",
      "{'name': 'stem_bn', 'trainable': True, 'dtype': 'float32', 'axis': ListWrapper([3]), 'momentum': 0.99, 'epsilon': 0.001, 'center': True, 'scale': True, 'beta_initializer': {'class_name': 'Zeros', 'config': {}}, 'gamma_initializer': {'class_name': 'Ones', 'config': {}}, 'moving_mean_initializer': {'class_name': 'Zeros', 'config': {}}, 'moving_variance_initializer': {'class_name': 'Ones', 'config': {}}, 'beta_regularizer': None, 'gamma_regularizer': None, 'beta_constraint': None, 'gamma_constraint': None}\n",
      "(None, 64, 64, 32)\n",
      "(None, 64, 64, 32)\n",
      "layer: 3\n",
      "{'name': 'stem_activation', 'trainable': True, 'dtype': 'float32', 'activation': 'swish'}\n",
      "(None, 64, 64, 32)\n",
      "(None, 64, 64, 32)\n"
     ]
    }
   ],
   "source": [
    "for i,l in enumerate(model.layers):\n",
    "    print('layer:', i)\n",
    "    print(l.get_config())\n",
    "    print(l.input_shape)\n",
    "    print(l.output_shape)\n",
    "    if i >2:\n",
    "      break"
   ]
  },
  {
   "cell_type": "code",
   "execution_count": 25,
   "id": "8c3b3016",
   "metadata": {},
   "outputs": [],
   "source": [
    "effnet = torchvision.models.efficientnet.efficientnet_b0()"
   ]
  },
  {
   "cell_type": "code",
   "execution_count": 41,
   "id": "fca48415",
   "metadata": {},
   "outputs": [],
   "source": [
    "children = list(effnet.children())"
   ]
  },
  {
   "cell_type": "code",
   "execution_count": 54,
   "id": "a8b1a05a",
   "metadata": {},
   "outputs": [],
   "source": [
    "c = children[0].children()"
   ]
  },
  {
   "cell_type": "code",
   "execution_count": 55,
   "id": "5c9712c1",
   "metadata": {},
   "outputs": [],
   "source": [
    "first_layer = list(c)"
   ]
  },
  {
   "cell_type": "code",
   "execution_count": 60,
   "id": "9288c52f",
   "metadata": {},
   "outputs": [],
   "source": [
    "first = list(first_layer[0].children())"
   ]
  },
  {
   "cell_type": "code",
   "execution_count": 61,
   "id": "71e89b17",
   "metadata": {},
   "outputs": [
    {
     "data": {
      "text/plain": [
       "[Conv2d(3, 32, kernel_size=(3, 3), stride=(2, 2), padding=(1, 1), bias=False),\n",
       " BatchNorm2d(32, eps=1e-05, momentum=0.1, affine=True, track_running_stats=True),\n",
       " SiLU(inplace=True)]"
      ]
     },
     "execution_count": 61,
     "metadata": {},
     "output_type": "execute_result"
    }
   ],
   "source": [
    "first"
   ]
  },
  {
   "cell_type": "code",
   "execution_count": 62,
   "id": "54929637",
   "metadata": {},
   "outputs": [],
   "source": [
    "conv2d = first[0]"
   ]
  },
  {
   "cell_type": "code",
   "execution_count": 66,
   "id": "3b14769f",
   "metadata": {},
   "outputs": [
    {
     "data": {
      "text/plain": [
       "Conv2d(3, 32, kernel_size=(3, 3), stride=(2, 2), padding=(1, 1), bias=False)"
      ]
     },
     "execution_count": 66,
     "metadata": {},
     "output_type": "execute_result"
    }
   ],
   "source": [
    "conv2d"
   ]
  },
  {
   "cell_type": "code",
   "execution_count": 65,
   "id": "5aeb11a3",
   "metadata": {
    "scrolled": false
   },
   "outputs": [
    {
     "data": {
      "text/plain": [
       "['T_destination',\n",
       " '__annotations__',\n",
       " '__call__',\n",
       " '__class__',\n",
       " '__constants__',\n",
       " '__delattr__',\n",
       " '__dict__',\n",
       " '__dir__',\n",
       " '__doc__',\n",
       " '__eq__',\n",
       " '__format__',\n",
       " '__ge__',\n",
       " '__getattr__',\n",
       " '__getattribute__',\n",
       " '__gt__',\n",
       " '__hash__',\n",
       " '__init__',\n",
       " '__init_subclass__',\n",
       " '__le__',\n",
       " '__lt__',\n",
       " '__module__',\n",
       " '__ne__',\n",
       " '__new__',\n",
       " '__reduce__',\n",
       " '__reduce_ex__',\n",
       " '__repr__',\n",
       " '__setattr__',\n",
       " '__setstate__',\n",
       " '__sizeof__',\n",
       " '__str__',\n",
       " '__subclasshook__',\n",
       " '__weakref__',\n",
       " '_apply',\n",
       " '_backward_hooks',\n",
       " '_buffers',\n",
       " '_call_impl',\n",
       " '_conv_forward',\n",
       " '_forward_hooks',\n",
       " '_forward_pre_hooks',\n",
       " '_get_backward_hooks',\n",
       " '_get_name',\n",
       " '_is_full_backward_hook',\n",
       " '_load_from_state_dict',\n",
       " '_load_state_dict_pre_hooks',\n",
       " '_maybe_warn_non_full_backward_hook',\n",
       " '_modules',\n",
       " '_named_members',\n",
       " '_non_persistent_buffers_set',\n",
       " '_parameters',\n",
       " '_register_load_state_dict_pre_hook',\n",
       " '_register_state_dict_hook',\n",
       " '_replicate_for_data_parallel',\n",
       " '_reversed_padding_repeated_twice',\n",
       " '_save_to_state_dict',\n",
       " '_slow_forward',\n",
       " '_state_dict_hooks',\n",
       " '_version',\n",
       " 'add_module',\n",
       " 'apply',\n",
       " 'bfloat16',\n",
       " 'bias',\n",
       " 'buffers',\n",
       " 'children',\n",
       " 'cpu',\n",
       " 'cuda',\n",
       " 'dilation',\n",
       " 'double',\n",
       " 'dump_patches',\n",
       " 'eval',\n",
       " 'extra_repr',\n",
       " 'float',\n",
       " 'forward',\n",
       " 'get_buffer',\n",
       " 'get_extra_state',\n",
       " 'get_parameter',\n",
       " 'get_submodule',\n",
       " 'groups',\n",
       " 'half',\n",
       " 'in_channels',\n",
       " 'kernel_size',\n",
       " 'load_state_dict',\n",
       " 'modules',\n",
       " 'named_buffers',\n",
       " 'named_children',\n",
       " 'named_modules',\n",
       " 'named_parameters',\n",
       " 'out_channels',\n",
       " 'output_padding',\n",
       " 'padding',\n",
       " 'padding_mode',\n",
       " 'parameters',\n",
       " 'register_backward_hook',\n",
       " 'register_buffer',\n",
       " 'register_forward_hook',\n",
       " 'register_forward_pre_hook',\n",
       " 'register_full_backward_hook',\n",
       " 'register_module',\n",
       " 'register_parameter',\n",
       " 'requires_grad_',\n",
       " 'reset_parameters',\n",
       " 'set_extra_state',\n",
       " 'share_memory',\n",
       " 'state_dict',\n",
       " 'stride',\n",
       " 'to',\n",
       " 'to_empty',\n",
       " 'train',\n",
       " 'training',\n",
       " 'transposed',\n",
       " 'type',\n",
       " 'weight',\n",
       " 'xpu',\n",
       " 'zero_grad']"
      ]
     },
     "execution_count": 65,
     "metadata": {},
     "output_type": "execute_result"
    }
   ],
   "source": [
    "dir(conv2d)"
   ]
  },
  {
   "cell_type": "code",
   "execution_count": 75,
   "id": "2cfc6eea",
   "metadata": {},
   "outputs": [
    {
     "data": {
      "text/plain": [
       "<tf.Variable 'stem_conv/kernel:0' shape=(3, 3, 5, 32) dtype=float32, numpy=\n",
       "array([[[[-1.38459057e-02,  8.92202333e-02,  8.15861449e-02, ...,\n",
       "           1.01898074e-01,  3.12764272e-02,  3.98175508e-01],\n",
       "         [-3.50989178e-02,  8.32791161e-03, -7.61044212e-03, ...,\n",
       "           1.28109425e-01, -2.61947140e-02,  5.90855181e-01],\n",
       "         [ 1.26326978e-01,  2.07516953e-01,  3.44878793e+00, ...,\n",
       "          -1.60583556e-02,  1.17549047e-01,  6.73558831e-01],\n",
       "         [ 2.65461445e-01, -2.86320597e-03, -6.31564334e-02, ...,\n",
       "          -1.80222738e+00,  1.07257925e-01,  1.06901252e+00],\n",
       "         [ 1.37792096e-01,  3.05479407e+00,  7.51248971e-02, ...,\n",
       "           7.19941333e-02,  5.26785254e-02, -1.94057137e-01]],\n",
       "\n",
       "        [[ 1.28037706e-01, -5.47330454e-02,  2.70690709e-01, ...,\n",
       "           4.60521281e-02, -2.02124417e-02, -7.80407786e-01],\n",
       "         [ 2.70410299e-01, -1.53877623e-02,  2.57609516e-01, ...,\n",
       "           4.23435383e-02, -8.70295465e-02, -1.12308896e+00],\n",
       "         [ 2.19120577e-01, -7.97612518e-02,  2.94436717e+00, ...,\n",
       "          -3.92486677e-02, -1.34773761e-01, -1.32085216e+00],\n",
       "         [ 1.63699120e-01,  1.86556112e-02,  1.10165864e-01, ...,\n",
       "          -5.85221469e-01, -8.49566832e-02, -2.15843773e+00],\n",
       "         [ 3.08565706e-01, -1.57006681e+00,  1.27797082e-01, ...,\n",
       "           2.93298736e-02, -4.64080349e-02,  2.53813714e-01]],\n",
       "\n",
       "        [[ 1.11824393e-01,  3.09640239e-03, -8.25588927e-02, ...,\n",
       "           1.33073747e-01,  3.25072780e-02,  3.68713677e-01],\n",
       "         [-5.80267236e-02,  1.73127595e-02, -4.51941729e-01, ...,\n",
       "           2.67071687e-02,  1.60152279e-02,  5.72480619e-01],\n",
       "         [ 1.00525722e-01,  6.63205907e-02, -6.67693496e-01, ...,\n",
       "           6.04514554e-02, -5.04036481e-03,  7.32949793e-01],\n",
       "         [-1.66237026e-01,  2.08603647e-02, -2.22508207e-01, ...,\n",
       "          -1.96843672e+00,  1.36145994e-01,  1.15479243e+00],\n",
       "         [-6.91944137e-02,  1.33243859e+00,  1.88186485e-02, ...,\n",
       "          -3.71580906e-02,  5.78771830e-02, -1.62380591e-01]]],\n",
       "\n",
       "\n",
       "       [[[-1.65310815e-01, -1.05366938e-01, -6.05284832e-02, ...,\n",
       "          -8.69946033e-02, -3.15756463e-02, -7.46187150e-01],\n",
       "         [-2.93852061e-01, -5.22225611e-02,  1.49182722e-01, ...,\n",
       "           7.60117695e-02, -5.89804128e-02, -1.15626240e+00],\n",
       "         [ 6.10704347e-02, -1.01403899e-01, -1.02326906e+00, ...,\n",
       "          -1.08575813e-01, -9.59277749e-02, -1.29174888e+00],\n",
       "         [-4.44473699e-02, -3.29266153e-02,  1.17404319e-01, ...,\n",
       "          -9.08927917e-01, -6.57725185e-02, -2.14601445e+00],\n",
       "         [-5.00116386e-02, -1.32094228e+00, -1.38553172e-01, ...,\n",
       "           7.76453782e-03, -1.91089958e-02,  2.63578713e-01]],\n",
       "\n",
       "        [[ 5.70741575e-03, -7.37481415e-02, -8.32904223e-03, ...,\n",
       "          -6.65422082e-02, -9.75788683e-02,  1.36728358e+00],\n",
       "         [ 8.51097628e-02,  9.57035646e-03,  3.40850592e-01, ...,\n",
       "          -2.74677902e-01, -1.49926424e-01,  2.20325446e+00],\n",
       "         [-1.04781777e-01, -9.30633843e-02,  7.75657237e-01, ...,\n",
       "           8.34233221e-03, -3.65787715e-01,  2.58534741e+00],\n",
       "         [-2.80145824e-01, -6.52209073e-02,  9.28600058e-02, ...,\n",
       "           2.68464184e+00, -2.96842396e-01,  4.30058813e+00],\n",
       "         [ 4.24865782e-02, -3.76165390e+00, -2.42902376e-02, ...,\n",
       "          -5.70952222e-02, -1.31372362e-01, -4.30781156e-01]],\n",
       "\n",
       "        [[-1.02199271e-01, -6.95057437e-02, -2.17868201e-02, ...,\n",
       "          -1.47475570e-01, -2.70488393e-02, -7.02231169e-01],\n",
       "         [-1.73507839e-01,  1.56421550e-02,  4.43306193e-02, ...,\n",
       "          -1.25825524e-01, -4.35781144e-02, -1.07815552e+00],\n",
       "         [-3.69273663e-01, -5.02511859e-03, -3.05677950e-01, ...,\n",
       "          -2.60272436e-02, -2.17762455e-01, -1.34093308e+00],\n",
       "         [-2.62910545e-01, -1.14860875e-03,  6.48825765e-02, ...,\n",
       "           2.48655915e+00, -2.47296914e-02, -2.24573898e+00],\n",
       "         [-3.12088042e-01, -5.02535105e-01,  9.61428508e-03, ...,\n",
       "           7.15729520e-02,  1.50122307e-03,  2.65647531e-01]]],\n",
       "\n",
       "\n",
       "       [[[-6.18034527e-02,  1.05403855e-01, -3.47061381e-02, ...,\n",
       "           1.08254604e-01, -1.36628060e-03,  3.44712645e-01],\n",
       "         [-1.07690655e-01,  2.65389569e-02, -1.87014684e-01, ...,\n",
       "           1.89292848e-01,  4.29221354e-02,  5.99941194e-01],\n",
       "         [ 4.77812067e-02,  1.88197903e-02, -2.14827037e+00, ...,\n",
       "           2.21409142e-01, -3.57118659e-02,  6.55871928e-01],\n",
       "         [-1.79665357e-01, -2.66330969e-02, -1.43559426e-01, ...,\n",
       "          -2.45050240e+00,  1.17338791e-01,  1.10008526e+00],\n",
       "         [-5.27534187e-02,  1.64024794e+00, -6.71825334e-02, ...,\n",
       "          -1.93869323e-02,  4.40233462e-02, -1.59819558e-01]],\n",
       "\n",
       "        [[ 9.06272754e-02, -3.34159620e-02, -1.35791237e-02, ...,\n",
       "          -9.03956369e-02, -2.24831611e-01, -6.83585763e-01],\n",
       "         [ 2.20811024e-01,  5.46974037e-03, -8.96530300e-02, ...,\n",
       "          -1.70259088e-01, -1.79578662e-01, -1.10107720e+00],\n",
       "         [-7.42726540e-03, -1.78192295e-02, -1.30230582e+00, ...,\n",
       "          -1.88157856e-02, -4.40861970e-01, -1.31578302e+00],\n",
       "         [ 5.18776327e-02,  1.77066252e-02,  7.00358301e-02, ...,\n",
       "           2.59699750e+00, -2.82982707e-01, -2.18742824e+00],\n",
       "         [ 1.35992408e-01, -5.31788468e-01, -7.34229907e-02, ...,\n",
       "          -2.75785066e-02, -2.04129443e-01,  2.60801673e-01]],\n",
       "\n",
       "        [[-9.80071574e-02,  9.76552293e-02,  1.44556286e-02, ...,\n",
       "          -4.43743914e-02, -1.61056314e-03,  3.95893604e-01],\n",
       "         [ 4.08796519e-02,  6.16379119e-02, -2.33348962e-02, ...,\n",
       "           2.88053546e-02,  5.90419956e-02,  5.08198738e-01],\n",
       "         [-4.36637342e-01,  7.96650201e-02, -9.21936512e-01, ...,\n",
       "          -8.16152915e-02, -1.87215507e-01,  6.75837457e-01],\n",
       "         [ 2.22431540e-01,  5.17188050e-02, -9.15808305e-02, ...,\n",
       "          -4.03638789e-03,  1.16752125e-01,  1.07795453e+00],\n",
       "         [-2.17999265e-01,  1.71538377e+00,  2.23819576e-02, ...,\n",
       "          -8.10304880e-02,  7.40596950e-02, -1.79694206e-01]]]],\n",
       "      dtype=float32)>"
      ]
     },
     "execution_count": 75,
     "metadata": {},
     "output_type": "execute_result"
    }
   ],
   "source": [
    "example_weights[0]"
   ]
  },
  {
   "cell_type": "code",
   "execution_count": 70,
   "id": "10b8fa56",
   "metadata": {},
   "outputs": [
    {
     "data": {
      "text/plain": [
       "torch.Size([32, 3, 3, 3])"
      ]
     },
     "execution_count": 70,
     "metadata": {},
     "output_type": "execute_result"
    }
   ],
   "source": [
    "conv2d.weight.shape"
   ]
  },
  {
   "cell_type": "code",
   "execution_count": 77,
   "id": "6887fb7f",
   "metadata": {},
   "outputs": [
    {
     "ename": "TypeError",
     "evalue": "expected np.ndarray (got ResourceVariable)",
     "output_type": "error",
     "traceback": [
      "\u001b[1;31m---------------------------------------------------------------------------\u001b[0m",
      "\u001b[1;31mTypeError\u001b[0m                                 Traceback (most recent call last)",
      "Input \u001b[1;32mIn [77]\u001b[0m, in \u001b[0;36m<cell line: 1>\u001b[1;34m()\u001b[0m\n\u001b[1;32m----> 1\u001b[0m conv2d_weights \u001b[38;5;241m=\u001b[39m \u001b[43mtorch\u001b[49m\u001b[38;5;241;43m.\u001b[39;49m\u001b[43mfrom_numpy\u001b[49m\u001b[43m(\u001b[49m\u001b[43mexample_weights\u001b[49m\u001b[43m[\u001b[49m\u001b[38;5;241;43m0\u001b[39;49m\u001b[43m]\u001b[49m\u001b[43m)\u001b[49m\n",
      "\u001b[1;31mTypeError\u001b[0m: expected np.ndarray (got ResourceVariable)"
     ]
    }
   ],
   "source": [
    "conv2d_weights = torch.from_numpy(example_weights[0])"
   ]
  },
  {
   "cell_type": "code",
   "execution_count": null,
   "id": "4b87f2b8",
   "metadata": {},
   "outputs": [],
   "source": []
  }
 ],
 "metadata": {
  "kernelspec": {
   "display_name": "Python 3 (ipykernel)",
   "language": "python",
   "name": "python3"
  },
  "language_info": {
   "codemirror_mode": {
    "name": "ipython",
    "version": 3
   },
   "file_extension": ".py",
   "mimetype": "text/x-python",
   "name": "python",
   "nbconvert_exporter": "python",
   "pygments_lexer": "ipython3",
   "version": "3.8.12"
  }
 },
 "nbformat": 4,
 "nbformat_minor": 5
}
